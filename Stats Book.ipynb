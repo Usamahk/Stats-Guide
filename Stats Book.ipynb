{
 "cells": [
  {
   "cell_type": "markdown",
   "metadata": {},
   "source": [
    "# Stats Book\n",
    "\n",
    "I've studied statistics for a lot of my life and have consistently been terrible at understanding it. \n",
    "\n",
    "Through elementary and high school, I had a knack for numbers so I took higher level Mathematics, which had a focus on stats. I was so confused. It left me with a severely bruised ego, like, maybe I wasn't as good at Maths as I thought I was. Regardless I passed, and made my way to University thinking the worst was behind me, only to get trashed by \"Probabilistic Methods\" - the fancy name they gave our mandatory intro to stats course. Then when we dove into Advanced Numerical Methods and Optimization in my final year, because I had such a weak base to build on, the stress of not being able to graduate started to creep in. I pulled through, and decided on a career path that I was excited for, saw a future in and felt like I had the skills to pursue - Data Science..the science of applying advanced statistical methods to extract insights from data. Jokes on me right? So to succeed, I knew I had to beef up my knowledge and take some courses, read some books and practice stats. That's led me to now when I am currently pursuing a Masters in Analytics and taking on courses in Advanced Analytics to beef up my skills.\n",
    "\n",
    "The reason I lay this all out is that I realized something. Statistics is fucking hard, and while I'm no expert in statistics, I am an expert in taking statistics courses and knowing the difference between stats taught well and stats taught badly.\n",
    "\n",
    "So with that in mind, years of notes, anecdotes and experiences to build on I had the idea to do what I never thought I would be capable of doing - writing a guide to learn statistics.\n",
    "\n",
    "If you're reading this, chances are you're looking for help in stats. Furthermore, chances are that someone has tried to explain stats to you and you still don't understand. Professors with PhDs and other Degrees in Stats got to that point because they understand the material and have a natural inclination to it. They have no idea how you and I feel when it comes to digesting these topics. So that's why I felt that now, while I still don't understand, but am beginning to understand, am in a good position to write a little guide to explain some of the highs and lows of statistics.\n",
    "\n",
    "In addition to this, I know that I only ever needed to learn stats to apply it. So this guide is going to be heavy on how to use stats in the world, using real world tools - in my case Python. Python is another beast in it's own right, but bear with me and see if you can't either learn a bit of Python while we go along."
   ]
  },
  {
   "cell_type": "markdown",
   "metadata": {},
   "source": [
    "## Basics\n",
    "\n",
    "First and foremost - the stats basics"
   ]
  }
 ],
 "metadata": {
  "kernelspec": {
   "display_name": "Python 3",
   "language": "python",
   "name": "python3"
  },
  "language_info": {
   "codemirror_mode": {
    "name": "ipython",
    "version": 3
   },
   "file_extension": ".py",
   "mimetype": "text/x-python",
   "name": "python",
   "nbconvert_exporter": "python",
   "pygments_lexer": "ipython3",
   "version": "3.7.6"
  },
  "toc": {
   "base_numbering": 1,
   "nav_menu": {},
   "number_sections": true,
   "sideBar": true,
   "skip_h1_title": true,
   "title_cell": "Table of Contents",
   "title_sidebar": "Contents",
   "toc_cell": false,
   "toc_position": {},
   "toc_section_display": true,
   "toc_window_display": true
  },
  "varInspector": {
   "cols": {
    "lenName": 16,
    "lenType": 16,
    "lenVar": 40
   },
   "kernels_config": {
    "python": {
     "delete_cmd_postfix": "",
     "delete_cmd_prefix": "del ",
     "library": "var_list.py",
     "varRefreshCmd": "print(var_dic_list())"
    },
    "r": {
     "delete_cmd_postfix": ") ",
     "delete_cmd_prefix": "rm(",
     "library": "var_list.r",
     "varRefreshCmd": "cat(var_dic_list()) "
    }
   },
   "types_to_exclude": [
    "module",
    "function",
    "builtin_function_or_method",
    "instance",
    "_Feature"
   ],
   "window_display": false
  }
 },
 "nbformat": 4,
 "nbformat_minor": 4
}
